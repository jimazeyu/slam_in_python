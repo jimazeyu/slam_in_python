{
 "cells": [
  {
   "cell_type": "markdown",
   "metadata": {},
   "source": [
    "# 主成分分析"
   ]
  },
  {
   "cell_type": "markdown",
   "metadata": {},
   "source": [
    "#### 准备数据"
   ]
  },
  {
   "cell_type": "code",
   "execution_count": 468,
   "metadata": {},
   "outputs": [],
   "source": [
    "import numpy as np\n",
    "import matplotlib.pyplot as plt"
   ]
  },
  {
   "cell_type": "code",
   "execution_count": 469,
   "metadata": {},
   "outputs": [],
   "source": [
    "# 创建数据（三维围绕原点的正态分布）\n",
    "np.random.seed(666)\n",
    "sigma_x = 1\n",
    "sigma_y = 10\n",
    "cov = np.array([[sigma_x, 0], [0, sigma_y]])\n",
    "data = np.random.multivariate_normal([0, 0], cov, 400)\n",
    "# 数据旋转45度\n",
    "theta = np.pi / 4\n",
    "rotation_matrix = np.array([[np.cos(theta), -np.sin(theta)], [np.sin(theta), np.cos(theta)]])\n",
    "data = data.dot(rotation_matrix)"
   ]
  },
  {
   "cell_type": "code",
   "execution_count": 470,
   "metadata": {},
   "outputs": [
    {
     "data": {
      "text/plain": [
       "(-10.0, 10.0)"
      ]
     },
     "execution_count": 470,
     "metadata": {},
     "output_type": "execute_result"
    },
    {
     "data": {
      "image/png": "[encoded data removed]",
      "text/plain": [
       "<Figure size 640x480 with 1 Axes>"
      ]
     },
     "metadata": {},
     "output_type": "display_data"
    }
   ],
   "source": [
    "# 数据可视化\n",
    "plt.scatter(data[:, 0], data[:, 1])\n",
    "# 设置坐标轴范围\n",
    "plt.xlim(-10, 10)\n",
    "plt.ylim(-10, 10)"
   ]
  },
  {
   "cell_type": "markdown",
   "metadata": {},
   "source": [
    "#### 使用PCA求解特征向量（SVD分解和特征值分解两种方法）"
   ]
  },
  {
   "cell_type": "code",
   "execution_count": 471,
   "metadata": {},
   "outputs": [],
   "source": [
    "# 1. 均值归零\n",
    "mean = np.mean(data, axis=0)\n",
    "data = data - mean\n",
    "# 2. 计算协方差矩阵(X.T * X / (n - 1))\n",
    "cov = np.dot(data.T, data) / (data.shape[0] - 1)"
   ]
  },
  {
   "cell_type": "code",
   "execution_count": 472,
   "metadata": {},
   "outputs": [
    {
     "name": "stdout",
     "output_type": "stream",
     "text": [
      "特征值分解法：\n",
      "特征向量（无序）： [[-0.71379369 -0.70035603]\n",
      " [ 0.70035603 -0.71379369]]\n",
      "SVD分解法：\n",
      "特征向量： [[-0.70035603 -0.71379369]\n",
      " [-0.71379369  0.70035603]]\n"
     ]
    }
   ],
   "source": [
    "# 3. 计算特征向量\n",
    "# 使用特征值分解法\n",
    "eig_vals_eig, eig_vecs_eig = np.linalg.eig(cov)\n",
    "# 使用SVD分解法\n",
    "U, S, V = np.linalg.svd(cov)\n",
    "eig_vecs_svd = V.T\n",
    "# 输出两种方法得到的特征值和特征向量\n",
    "print('特征值分解法：')\n",
    "print('特征向量（无序）：', eig_vecs_eig)\n",
    "print('SVD分解法：')\n",
    "print('特征向量：', eig_vecs_svd)"
   ]
  },
  {
   "cell_type": "code",
   "execution_count": 473,
   "metadata": {},
   "outputs": [],
   "source": [
    "# 4. 选择主成分\n",
    "eig_pairs = [(np.abs(eig_vals_eig[i]), eig_vecs_eig[:, i]) for i in range(len(eig_vals_eig))]\n",
    "eig_pairs.sort(key=lambda x: x[0], reverse=True)"
   ]
  },
  {
   "cell_type": "code",
   "execution_count": 474,
   "metadata": {},
   "outputs": [
    {
     "name": "stdout",
     "output_type": "stream",
     "text": [
      "协方差矩阵：\n",
      " [[5.38581895 4.44033309]\n",
      " [4.44033309 5.55460747]]\n",
      "特征值： 9.911348240123584\n",
      "特征向量： [-0.70035603 -0.71379369]\n",
      "特征值： 1.0290781758395111\n",
      "特征向量： [-0.71379369  0.70035603]\n"
     ]
    }
   ],
   "source": [
    "# 输出\n",
    "print('协方差矩阵：\\n', cov)\n",
    "for i in range(len(eig_pairs)):\n",
    "    print('特征值：', eig_pairs[i][0])\n",
    "    print('特征向量：', eig_pairs[i][1])"
   ]
  },
  {
   "cell_type": "code",
   "execution_count": 475,
   "metadata": {},
   "outputs": [
    {
     "name": "stdout",
     "output_type": "stream",
     "text": [
      "第一主成分投影模的均值： 2.507900115346837\n",
      "第一主成分的方差： 9.886569869523273\n"
     ]
    }
   ],
   "source": [
    "data_new_1 = np.dot(data, eig_pairs[0][1])\n",
    "print('第一主成分投影模的均值：', np.mean(np.abs(data_new_1)))\n",
    "print('第一主成分的方差：', np.var(data_new_1))"
   ]
  },
  {
   "cell_type": "code",
   "execution_count": 476,
   "metadata": {},
   "outputs": [
    {
     "name": "stdout",
     "output_type": "stream",
     "text": [
      "第二主成分投影模的均值： 0.8169630315200657\n",
      "第二主成分的方差： 1.0265054803999114\n"
     ]
    }
   ],
   "source": [
    "data_new_2 = np.dot(data, eig_pairs[1][1])\n",
    "print('第二主成分投影模的均值：', np.mean(np.abs(data_new_2)))\n",
    "print('第二主成分的方差：', np.var(data_new_2))"
   ]
  },
  {
   "cell_type": "markdown",
   "metadata": {},
   "source": [
    "#### 比较SVD和EIG两种算法的结果速度\n",
    "1. SVD快于EIG，一般PCA函数使用SVD算法\n",
    "2. 在没有明确主成分的情况下，两者计算出的数值会有一定差异"
   ]
  },
  {
   "cell_type": "code",
   "execution_count": 477,
   "metadata": {},
   "outputs": [],
   "source": [
    "# 比较SVD分解法和特征值分解法速度\n",
    "# 生成n * n的随机矩阵\n",
    "n = 1000\n",
    "A = np.random.rand(n, n)"
   ]
  },
  {
   "cell_type": "code",
   "execution_count": 478,
   "metadata": {},
   "outputs": [
    {
     "name": "stdout",
     "output_type": "stream",
     "text": [
      "Wall time: 865 ms\n"
     ]
    }
   ],
   "source": [
    "%%time\n",
    "# 特征值分解法\n",
    "eig_vals, eig_vecs = np.linalg.eig(A)"
   ]
  },
  {
   "cell_type": "code",
   "execution_count": 479,
   "metadata": {},
   "outputs": [
    {
     "name": "stdout",
     "output_type": "stream",
     "text": [
      "[0.03153624 0.03124767 0.03140246]\n",
      "[0.03247705 0.00541206 0.01152263]\n",
      "[0.03247705 0.00541206 0.01152263]\n"
     ]
    }
   ],
   "source": [
    "# 以eigenvalue为key排序\n",
    "eig_pairs = [(np.abs(eig_vals[i]), eig_vecs[:, i]) for i in range(len(eig_vals))]\n",
    "eig_pairs.sort(key=lambda x: x[0], reverse=True)\n",
    "# 输出前3个特征向量\n",
    "for i in range(3):\n",
    "    print(np.abs(eig_pairs[i][1])[0:3])"
   ]
  },
  {
   "cell_type": "code",
   "execution_count": 480,
   "metadata": {},
   "outputs": [
    {
     "name": "stdout",
     "output_type": "stream",
     "text": [
      "Wall time: 255 ms\n"
     ]
    }
   ],
   "source": [
    "%%time\n",
    "# SVD分解法\n",
    "U, S, V = np.linalg.svd(A)\n",
    "eig_vecs = V.T"
   ]
  },
  {
   "cell_type": "code",
   "execution_count": 481,
   "metadata": {},
   "outputs": [
    {
     "name": "stdout",
     "output_type": "stream",
     "text": [
      "[0.031261   0.03073313 0.0320946 ]\n",
      "[0.03877995 0.02119789 0.01264243]\n",
      "[0.02601087 0.02384845 0.05791969]\n"
     ]
    }
   ],
   "source": [
    "# 输出前3个特征向量（SVD无需排序）\n",
    "for i in range(3):\n",
    "    print(np.abs(eig_vecs[0:3, i]))"
   ]
  }
 ],
 "metadata": {
  "kernelspec": {
   "display_name": "Python 3.9.13 ('base')",
   "language": "python",
   "name": "python3"
  },
  "language_info": {
   "codemirror_mode": {
    "name": "ipython",
    "version": 3
   },
   "file_extension": ".py",
   "mimetype": "text/x-python",
   "name": "python",
   "nbconvert_exporter": "python",
   "pygments_lexer": "ipython3",
   "version": "3.9.13"
  },
  "orig_nbformat": 4,
  "vscode": {
   "interpreter": {
    "hash": "49cb93f377a7abe7414b7b0f21fb3017538004a126cf690fb524202736b7fb92"
   }
  }
 },
 "nbformat": 4,
 "nbformat_minor": 2
}

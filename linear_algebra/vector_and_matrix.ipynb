{
 "cells": [
  {
   "cell_type": "markdown",
   "metadata": {},
   "source": [
    "### 向量的基本操作"
   ]
  },
  {
   "cell_type": "code",
   "execution_count": 1,
   "metadata": {},
   "outputs": [],
   "source": [
    "import numpy as np\n",
    "import matplotlib.pyplot as plt"
   ]
  },
  {
   "cell_type": "code",
   "execution_count": 2,
   "metadata": {},
   "outputs": [],
   "source": [
    "# 创建向量\n",
    "vector1 = np.array([1, 2, 3])\n",
    "vector2 = np.array([3, 2, 1])"
   ]
  },
  {
   "cell_type": "code",
   "execution_count": 3,
   "metadata": {},
   "outputs": [
    {
     "name": "stdout",
     "output_type": "stream",
     "text": [
      "vector1 + vector2 =  [4 4 4]\n",
      "vector1 - vector2 =  [-2  0  2]\n",
      "2 * vector1 =  [2 4 6]\n",
      "vector1 · vector2 =  10\n",
      "vector1 × vector2 =  [-4  8 -4]\n",
      "|vector1| =  3.7416573867739413\n",
      "θ =  0.7751933733103613\n"
     ]
    }
   ],
   "source": [
    "# 向量加法\n",
    "vector_add = vector1 + vector2\n",
    "# 向量减法\n",
    "vector_sub = vector1 - vector2\n",
    "# 向量数乘\n",
    "vector_mul = 2 * vector1\n",
    "# 向量点乘\n",
    "vector_dot = np.dot(vector1, vector2)\n",
    "# 向量叉乘\n",
    "vector_cross = np.cross(vector1, vector2)\n",
    "# 向量模\n",
    "vector_norm = np.linalg.norm(vector1)\n",
    "# 向量夹角\n",
    "# cosθ = (a·b) / (|a|*|b|)\n",
    "vector_angle = np.arccos(vector_dot / (vector_norm * vector_norm))\n",
    "\n",
    "# 输出结果\n",
    "print('vector1 + vector2 = ', vector_add)\n",
    "print('vector1 - vector2 = ', vector_sub)\n",
    "print('2 * vector1 = ', vector_mul)\n",
    "print('vector1 · vector2 = ', vector_dot)\n",
    "print('vector1 × vector2 = ', vector_cross)\n",
    "print('|vector1| = ', vector_norm)\n",
    "print('θ = ', vector_angle)"
   ]
  },
  {
   "cell_type": "markdown",
   "metadata": {},
   "source": [
    "### 矩阵基本操作"
   ]
  },
  {
   "cell_type": "code",
   "execution_count": 4,
   "metadata": {},
   "outputs": [
    {
     "name": "stdout",
     "output_type": "stream",
     "text": [
      "matrix1 = \n",
      " [[1 2 3]\n",
      " [4 5 6]\n",
      " [7 8 9]]\n",
      "matrix2 = \n",
      " [[1 2 3]\n",
      " [4 5 6]\n",
      " [7 8 9]]\n"
     ]
    }
   ],
   "source": [
    "# 创建矩阵，这里使用方阵\n",
    "matrix1 = np.array([[1, 2, 3], [4, 5, 6], [7, 8, 9]])\n",
    "matrix2 = np.array([[1, 2, 3], [4, 5, 6], [7, 8, 9]])\n",
    "print('matrix1 = \\n', matrix1)\n",
    "print('matrix2 = \\n', matrix2)"
   ]
  },
  {
   "cell_type": "code",
   "execution_count": 5,
   "metadata": {},
   "outputs": [
    {
     "name": "stdout",
     "output_type": "stream",
     "text": [
      "matrix1 + matrix2 = \n",
      " [[ 2  4  6]\n",
      " [ 8 10 12]\n",
      " [14 16 18]]\n",
      "matrix1 - matrix2 = \n",
      " [[0 0 0]\n",
      " [0 0 0]\n",
      " [0 0 0]]\n",
      "2 * matrix1 = \n",
      " [[ 2  4  6]\n",
      " [ 8 10 12]\n",
      " [14 16 18]]\n",
      "matrix1 · matrix2 = \n",
      " [[ 30  36  42]\n",
      " [ 66  81  96]\n",
      " [102 126 150]]\n",
      "matrix1.T = \n",
      " [[1 4 7]\n",
      " [2 5 8]\n",
      " [3 6 9]]\n",
      "|matrix1| =  6.66133814775094e-16\n",
      "matrix1^-1 = \n",
      " [[-4.50359963e+15  9.00719925e+15 -4.50359963e+15]\n",
      " [ 9.00719925e+15 -1.80143985e+16  9.00719925e+15]\n",
      " [-4.50359963e+15  9.00719925e+15 -4.50359963e+15]]\n"
     ]
    }
   ],
   "source": [
    "# 矩阵加法\n",
    "matrix_add = matrix1 + matrix2\n",
    "# 矩阵减法\n",
    "matrix_sub = matrix1 - matrix2\n",
    "# 矩阵数乘\n",
    "matrix_mul = 2 * matrix1\n",
    "# 矩阵点乘\n",
    "# matrix_dot = matrix1 @ matrix2\n",
    "matrix_dot = np.dot(matrix1, matrix2)\n",
    "# 矩阵转置\n",
    "matrix_transpose = matrix1.T\n",
    "# 矩阵行列式\n",
    "matrix_det = np.linalg.det(matrix1)\n",
    "# 矩阵逆（矩阵不满秩也会返回值）\n",
    "matrix_inv = np.linalg.inv(matrix1)\n",
    "\n",
    "# 输出结果\n",
    "print('matrix1 + matrix2 = \\n', matrix_add)\n",
    "print('matrix1 - matrix2 = \\n', matrix_sub)\n",
    "print('2 * matrix1 = \\n', matrix_mul)\n",
    "print('matrix1 · matrix2 = \\n', matrix_dot)\n",
    "print('matrix1.T = \\n', matrix_transpose)\n",
    "print('|matrix1| = ', matrix_det)\n",
    "print('matrix1^-1 = \\n', matrix_inv)"
   ]
  }
 ],
 "metadata": {
  "kernelspec": {
   "display_name": "Python 3.9.13 ('base')",
   "language": "python",
   "name": "python3"
  },
  "language_info": {
   "codemirror_mode": {
    "name": "ipython",
    "version": 3
   },
   "file_extension": ".py",
   "mimetype": "text/x-python",
   "name": "python",
   "nbconvert_exporter": "python",
   "pygments_lexer": "ipython3",
   "version": "3.9.13"
  },
  "orig_nbformat": 4,
  "vscode": {
   "interpreter": {
    "hash": "49cb93f377a7abe7414b7b0f21fb3017538004a126cf690fb524202736b7fb92"
   }
  }
 },
 "nbformat": 4,
 "nbformat_minor": 2
}
